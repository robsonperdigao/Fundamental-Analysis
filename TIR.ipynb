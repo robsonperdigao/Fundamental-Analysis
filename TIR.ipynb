{
 "cells": [
  {
   "cell_type": "markdown",
   "metadata": {},
   "source": [
    "### Fórmula para calcular a Taxa Interna de Retorno (TIR)\n",
    "\n",
    "A Taxa Interna de Retorno, também conhecida como TIR, é um indicador que, quando aplicado ao fluxo de caixa, torna os valores de retorno iguais às despesas trazidas a valor presente.\n",
    "\n",
    "Por exemplo: se a TIR de um projeto é de 20% e os seus fluxos de caixa anuais e estáveis, então o retorno anual para investir nesse projeto será de 20%."
   ]
  },
  {
   "cell_type": "markdown",
   "metadata": {},
   "source": [
    "#### Conceito"
   ]
  },
  {
   "cell_type": "markdown",
   "metadata": {},
   "source": [
    "A taxa interna de retorno é um método muito usado para verificar a viabilidade de terminado projeto ou investimento. Sendo assim, é fundamental entender quando ocorre a taxa interna de retorno.\n",
    "\n",
    "VPLa: entenda mais sobre essa métrica de análise de investimentos\n",
    "VPLa: entenda mais sobre essa métrica de análise de investimentos\n",
    "Sendo assim, a TIR ajuda a calcular a taxa de desconto de determinado fluxo de caixa para que seu valor presente líquido (VPL) chegue a zero.\n",
    "\n",
    "O VPL é um cálculo que traz ao presente determinado valor futuro, representando assim a diferença entre recebimentos e pagamentos de determinado investimento em valores de hoje.\n",
    "\n",
    "Portanto, para verificar a viabilidade de um projeto, existem três possibilidades. Primeiramente, se a TIR de um projeto for maior que a taxa mínima de atratividade, significa que ele é viável.\n",
    "\n",
    "Por outro lado, se o valor for negativo, esse projeto não tem viabilidade econômica, sendo uma boa opção não prosseguir com o trabalho."
   ]
  },
  {
   "cell_type": "markdown",
   "metadata": {},
   "source": [
    "#### Fórmula"
   ]
  },
  {
   "cell_type": "markdown",
   "metadata": {},
   "source": [
    "A fórmula da TIR pode parecer difícil para quem não está familiarizado com os termos, mas pode ser calculada a partir da explicação de cada indicador. Dessa forma, a fórmula para calcular a Taxa de Retorno é:"
   ]
  },
  {
   "cell_type": "markdown",
   "metadata": {},
   "source": [
    "<img src = 'https://files.sunoresearch.com.br/p/uploads/2018/06/tir.jpg'>"
   ]
  },
  {
   "cell_type": "markdown",
   "metadata": {},
   "source": [
    "Onde:\n",
    "\n",
    "t: Período ocorre o fluxo de caixa (podendo ser em meses, bimestres, semestre ou anos, meses);\n",
    "\n",
    "FCt: Fluxo de caixa do período t;\n",
    "\n",
    "n: número total de períodos analisados;\n",
    "\n",
    "Σ: somatório dos fluxos de todos os períodos.\n",
    "\n",
    "Primeiramente, considera-se o somatório dos fluxos (Σ)  de todos os períodos que se deseja calcular (n).\n",
    "\n",
    "Além disso, são levados em conta na equação o período ocorre o fluxo de caixa (t), que pode ser calculado em meses, bimestres, semestres, anos ou outros períodos de tempo. Por fim, o fluxo de caixa do período t, (FCt) também é considerado para o cálculo.\n",
    "\n",
    "Sendo assim, multiplica-se Σ pelo resultado da divisão do fluxo de caixa ao longo do tempo pela soma de 1 + a taxa interna de retorno elevado ao período (t) estudado.\n",
    "\n",
    "Ainda que esse cálculo possa parecer complexo de ser realizado por conta própria, pode-se usar uma calculadora para calcular taxa interna de retorno."
   ]
  },
  {
   "cell_type": "markdown",
   "metadata": {},
   "source": [
    "#### Importando a biblioteca NumPy\n",
    "\n",
    "(Caso não tenha instalado, rode o pip abaixo)"
   ]
  },
  {
   "cell_type": "code",
   "execution_count": null,
   "metadata": {},
   "outputs": [],
   "source": [
    "!pip install numpy_financial"
   ]
  },
  {
   "cell_type": "code",
   "execution_count": 7,
   "metadata": {},
   "outputs": [],
   "source": [
    "import numpy_financial as npf"
   ]
  },
  {
   "cell_type": "markdown",
   "metadata": {},
   "source": [
    "#### Capital Investido"
   ]
  },
  {
   "cell_type": "code",
   "execution_count": 8,
   "metadata": {},
   "outputs": [
    {
     "data": {
      "text/plain": [
       "-50000.0"
      ]
     },
     "execution_count": 8,
     "metadata": {},
     "output_type": "execute_result"
    }
   ],
   "source": [
    "cap = float(input('Qual o valor do capital investido? '))\n",
    "cap = cap*-1\n",
    "cap"
   ]
  },
  {
   "cell_type": "markdown",
   "metadata": {},
   "source": [
    "#### Fluxo de Caixa"
   ]
  },
  {
   "cell_type": "code",
   "execution_count": 9,
   "metadata": {},
   "outputs": [
    {
     "data": {
      "text/plain": [
       "5000.0"
      ]
     },
     "execution_count": 9,
     "metadata": {},
     "output_type": "execute_result"
    }
   ],
   "source": [
    "fc = float(input('Qual o fluxo de caixa? '))\n",
    "fc"
   ]
  },
  {
   "cell_type": "markdown",
   "metadata": {},
   "source": [
    "#### Prazo"
   ]
  },
  {
   "cell_type": "code",
   "execution_count": 10,
   "metadata": {},
   "outputs": [
    {
     "data": {
      "text/plain": [
       "12.0"
      ]
     },
     "execution_count": 10,
     "metadata": {},
     "output_type": "execute_result"
    }
   ],
   "source": [
    "prazo = float(input('Qual o prazo? '))\n",
    "prazo"
   ]
  },
  {
   "cell_type": "markdown",
   "metadata": {},
   "source": [
    "#### Criando lista com os valores fornecidos"
   ]
  },
  {
   "cell_type": "code",
   "execution_count": 11,
   "metadata": {},
   "outputs": [
    {
     "data": {
      "text/plain": [
       "[-50000.0, 5000.0, 12.0]"
      ]
     },
     "execution_count": 11,
     "metadata": {},
     "output_type": "execute_result"
    }
   ],
   "source": [
    "lista = [cap, fc, prazo]\n",
    "lista"
   ]
  },
  {
   "cell_type": "markdown",
   "metadata": {},
   "source": [
    "#### Calculando a TIR"
   ]
  },
  {
   "cell_type": "code",
   "execution_count": 14,
   "metadata": {},
   "outputs": [
    {
     "name": "stdout",
     "output_type": "stream",
     "text": [
      "-89.77%\n"
     ]
    }
   ],
   "source": [
    "tir = npf.irr(lista) * 100\n",
    "print(f'{tir:.2f}%')"
   ]
  },
  {
   "cell_type": "code",
   "execution_count": null,
   "metadata": {},
   "outputs": [],
   "source": []
  }
 ],
 "metadata": {
  "kernelspec": {
   "display_name": "Python 3",
   "language": "python",
   "name": "python3"
  },
  "language_info": {
   "codemirror_mode": {
    "name": "ipython",
    "version": 3
   },
   "file_extension": ".py",
   "mimetype": "text/x-python",
   "name": "python",
   "nbconvert_exporter": "python",
   "pygments_lexer": "ipython3",
   "version": "3.11.5"
  },
  "orig_nbformat": 4
 },
 "nbformat": 4,
 "nbformat_minor": 2
}
